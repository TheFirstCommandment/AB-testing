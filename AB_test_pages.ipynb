{
 "cells": [
  {
   "cell_type": "markdown",
   "id": "22cb9fdf",
   "metadata": {},
   "source": [
    "<span style='font-size:20.5px; letter_spacing: 1px'>The project is an AB-test. Project's goal: to determine any causal effect in users behaviour after being exposed to a <b>old_page</b> design or <b>new_page</b> design, which is captured by <b>converted</b> column</span>"
   ]
  },
  {
   "cell_type": "code",
   "execution_count": 121,
   "id": "a111d8bc",
   "metadata": {},
   "outputs": [],
   "source": [
    "import pandas as pd\n",
    "import numpy as np\n",
    "import matplotlib.pyplot as plt\n",
    "import datetime"
   ]
  },
  {
   "cell_type": "markdown",
   "id": "8cf10bef",
   "metadata": {},
   "source": [
    "<h2>1. Let's take a look at the data. Figure out size of both control and treatment groups, possibly clean the data, convert columns into needed data types</h2>"
   ]
  },
  {
   "cell_type": "code",
   "execution_count": 122,
   "id": "e41546ef",
   "metadata": {},
   "outputs": [],
   "source": [
    "#read data\n",
    "df = pd.read_csv('ab_data.csv')"
   ]
  },
  {
   "cell_type": "code",
   "execution_count": null,
   "id": "208d729a",
   "metadata": {},
   "outputs": [],
   "source": [
    "#overview\n",
    "for column in df.columns:\n",
    "    print(column)\n",
    "    print(df[column].unique())"
   ]
  },
  {
   "cell_type": "markdown",
   "id": "095968a1",
   "metadata": {},
   "source": [
    "<span><b>Ensure user ids do not dublicate</b><span>"
   ]
  },
  {
   "cell_type": "code",
   "execution_count": 169,
   "id": "91b92ea1",
   "metadata": {},
   "outputs": [],
   "source": [
    "\n",
    "counter = df['user_id'].value_counts()\n",
    "\n",
    "#counter\n",
    "valid_users = pd.DataFrame(counter[counter == 1].index, columns=['user_id'])\n",
    "df =df.merge(valid_users, on='user_id')"
   ]
  },
  {
   "cell_type": "code",
   "execution_count": 170,
   "id": "07d98e78",
   "metadata": {},
   "outputs": [
    {
     "data": {
      "text/plain": [
       "851104    1\n",
       "701718    1\n",
       "646178    1\n",
       "715222    1\n",
       "886963    1\n",
       "         ..\n",
       "683486    1\n",
       "671693    1\n",
       "875919    1\n",
       "701344    1\n",
       "715931    1\n",
       "Name: user_id, Length: 286690, dtype: int64"
      ]
     },
     "execution_count": 170,
     "metadata": {},
     "output_type": "execute_result"
    }
   ],
   "source": [
    "counter"
   ]
  },
  {
   "cell_type": "code",
   "execution_count": 171,
   "id": "26d210da",
   "metadata": {},
   "outputs": [
    {
     "data": {
      "text/plain": [
       "treatment    143397\n",
       "control      143293\n",
       "Name: group, dtype: int64"
      ]
     },
     "execution_count": 171,
     "metadata": {},
     "output_type": "execute_result"
    }
   ],
   "source": [
    "#determine size of the groups\n",
    "df['group'].value_counts()"
   ]
  },
  {
   "cell_type": "code",
   "execution_count": 124,
   "id": "175027f8",
   "metadata": {},
   "outputs": [
    {
     "data": {
      "text/plain": [
       "0.0005027105609978211"
      ]
     },
     "execution_count": 124,
     "metadata": {},
     "output_type": "execute_result"
    }
   ],
   "source": [
    "#ration of the groups\n",
    "len(df[df['group'] == 'treatment']) / len(df[df['group'] == 'control']) - 1"
   ]
  },
  {
   "cell_type": "code",
   "execution_count": 125,
   "id": "aff57db0",
   "metadata": {},
   "outputs": [
    {
     "name": "stdout",
     "output_type": "stream",
     "text": [
      "2017-01-02 13:42:05.378582\n",
      "2017-01-24 13:41:44.097174\n"
     ]
    }
   ],
   "source": [
    "#how long lasted the experiment \n",
    "print(df[df['group'] == 'treatment']['timestamp'].min())\n",
    "print(df[df['group'] == 'treatment']['timestamp'].max())"
   ]
  },
  {
   "cell_type": "code",
   "execution_count": 126,
   "id": "6d09b105",
   "metadata": {},
   "outputs": [
    {
     "data": {
      "text/plain": [
       "count                         294478\n",
       "unique                        294478\n",
       "top       2017-01-21 22:11:48.556739\n",
       "freq                               1\n",
       "Name: timestamp, dtype: object"
      ]
     },
     "execution_count": 126,
     "metadata": {},
     "output_type": "execute_result"
    }
   ],
   "source": [
    "#overview\n",
    "df['timestamp'].describe()"
   ]
  },
  {
   "cell_type": "code",
   "execution_count": 127,
   "id": "c5529a05",
   "metadata": {},
   "outputs": [],
   "source": [
    "#convert timestamps into a proper datatype\n",
    "df['timestamp'] = pd.to_datetime(df['timestamp'])"
   ]
  },
  {
   "cell_type": "code",
   "execution_count": 128,
   "id": "73cf6635",
   "metadata": {},
   "outputs": [],
   "source": [
    "#df['timestamp'].astype('str')"
   ]
  },
  {
   "cell_type": "markdown",
   "id": "cff9c9a7",
   "metadata": {},
   "source": [
    "<h3>start of the test...\n",
    "</h3>"
   ]
  },
  {
   "cell_type": "code",
   "execution_count": 129,
   "id": "bcbc1327",
   "metadata": {},
   "outputs": [],
   "source": [
    "df_control_converted = df[(df['group'] == 'control') & (df['converted'] == 1)]"
   ]
  },
  {
   "cell_type": "code",
   "execution_count": 130,
   "id": "e8725ea1",
   "metadata": {},
   "outputs": [],
   "source": [
    "df_control_unconverted = df[(df['group'] == 'control') & (df['converted'] == 0)]"
   ]
  },
  {
   "cell_type": "code",
   "execution_count": 131,
   "id": "8f600e1b",
   "metadata": {},
   "outputs": [],
   "source": [
    "df_treatment_converted = df[(df['group'] == 'treatment') & (df['converted'] == 1)]\n",
    "df_treatment_unconverted = df[(df['group'] == 'treatment') & (df['converted'] == 0)]"
   ]
  },
  {
   "cell_type": "code",
   "execution_count": 132,
   "id": "b7c54da2",
   "metadata": {},
   "outputs": [],
   "source": [
    "control_ratio = len(df_control_converted)/len(df_control_unconverted)"
   ]
  },
  {
   "cell_type": "code",
   "execution_count": 133,
   "id": "72acdce1",
   "metadata": {},
   "outputs": [],
   "source": [
    "treatment_ratio = len(df_treatment_converted) / len(df_treatment_unconverted)"
   ]
  },
  {
   "cell_type": "code",
   "execution_count": 172,
   "id": "7d37e04a",
   "metadata": {},
   "outputs": [
    {
     "data": {
      "text/plain": [
       "0.9860522169014425"
      ]
     },
     "execution_count": 172,
     "metadata": {},
     "output_type": "execute_result"
    }
   ],
   "source": [
    "#treatment and control groups are almost symmetrical, which allows for correct analysis\n",
    "treatment_ratio/control_ratio"
   ]
  },
  {
   "cell_type": "code",
   "execution_count": 136,
   "id": "d87cc356",
   "metadata": {},
   "outputs": [],
   "source": [
    "#creating a week column\n",
    "import datetime\n",
    "df['week'] = df['timestamp'].dt.isocalendar().week"
   ]
  },
  {
   "cell_type": "code",
   "execution_count": 137,
   "id": "f4cb71bb",
   "metadata": {},
   "outputs": [],
   "source": [
    "treatment_data = df.loc[df['group'] != 'control']"
   ]
  },
  {
   "cell_type": "code",
   "execution_count": 138,
   "id": "1f386156",
   "metadata": {},
   "outputs": [
    {
     "data": {
      "text/plain": [
       "group      converted\n",
       "control    0            126073\n",
       "           1             17220\n",
       "treatment  0            126372\n",
       "           1             17025\n",
       "Name: converted, dtype: int64"
      ]
     },
     "execution_count": 138,
     "metadata": {},
     "output_type": "execute_result"
    }
   ],
   "source": [
    "df.groupby('group')['converted'].value_counts()"
   ]
  },
  {
   "cell_type": "markdown",
   "id": "3a69c9fc",
   "metadata": {},
   "source": [
    "Transform the data into 2x2 matrix for chi test"
   ]
  },
  {
   "cell_type": "code",
   "execution_count": 139,
   "id": "3eb9cc6b",
   "metadata": {},
   "outputs": [
    {
     "data": {
      "text/plain": [
       "array([[126073,  17220],\n",
       "       [126372,  17025]], dtype=int64)"
      ]
     },
     "execution_count": 139,
     "metadata": {},
     "output_type": "execute_result"
    }
   ],
   "source": [
    "observed_values = pd.crosstab(df['group'], df['converted']).values\n",
    "observed_values"
   ]
  },
  {
   "cell_type": "code",
   "execution_count": 140,
   "id": "a106bbb7",
   "metadata": {},
   "outputs": [],
   "source": [
    "control_rate = 17723 / (17723 + 129479)\n",
    "treatment_rate = 17512 / (129762 + 17514)"
   ]
  },
  {
   "cell_type": "code",
   "execution_count": 141,
   "id": "0edb5b3a",
   "metadata": {},
   "outputs": [
    {
     "data": {
      "text/plain": [
       "0.12039917935897611"
      ]
     },
     "execution_count": 141,
     "metadata": {},
     "output_type": "execute_result"
    }
   ],
   "source": [
    "control_rate\n"
   ]
  },
  {
   "cell_type": "code",
   "execution_count": 142,
   "id": "f4c32f06",
   "metadata": {},
   "outputs": [
    {
     "data": {
      "text/plain": [
       "0.11890599961976153"
      ]
     },
     "execution_count": 142,
     "metadata": {},
     "output_type": "execute_result"
    }
   ],
   "source": [
    "treatment_rate"
   ]
  },
  {
   "cell_type": "code",
   "execution_count": 143,
   "id": "c7141006",
   "metadata": {},
   "outputs": [],
   "source": [
    "from scipy.stats import chi2_contingency, chi2\n",
    "a = 0.05"
   ]
  },
  {
   "cell_type": "code",
   "execution_count": 144,
   "id": "24d5430b",
   "metadata": {},
   "outputs": [],
   "source": [
    "chi2_statistics, p_value, dof, expected_values = chi2_contingency(observed_values, correction=False)"
   ]
  },
  {
   "cell_type": "code",
   "execution_count": 145,
   "id": "c4beaccb",
   "metadata": {},
   "outputs": [
    {
     "name": "stdout",
     "output_type": "stream",
     "text": [
      "1.426794609399621 0.23228827305833816\n"
     ]
    }
   ],
   "source": [
    "print(chi2_statistics, p_value)"
   ]
  },
  {
   "cell_type": "code",
   "execution_count": 146,
   "id": "2bc1a073",
   "metadata": {},
   "outputs": [
    {
     "name": "stdout",
     "output_type": "stream",
     "text": [
      "relationship exists : chi2 1.426794609399621 p_value 0.23228827305833816\n"
     ]
    }
   ],
   "source": [
    "h_0 = 'no relationship'\n",
    "h_1 = 'relationship exists'\n",
    "if chi2_statistics > a:\n",
    "    print(h_1, ':', 'chi2', chi2_statistics, 'p_value', p_value)\n",
    "elif chi2_statistics < a:\n",
    "    print(h_0, ':', 'chi2', chi2_statistics, 'p_value', p_value)"
   ]
  },
  {
   "cell_type": "code",
   "execution_count": 147,
   "id": "af05eec6",
   "metadata": {},
   "outputs": [
    {
     "data": {
      "text/plain": [
       "3.841458820694124"
      ]
     },
     "execution_count": 147,
     "metadata": {},
     "output_type": "execute_result"
    }
   ],
   "source": [
    "critical_value = chi2.ppf(1 - a, dof)\n",
    "critical_value"
   ]
  },
  {
   "cell_type": "markdown",
   "id": "fe4177e9",
   "metadata": {},
   "source": [
    "<H1>2. Lets us look at the conversion rate broken down weekly</H1>"
   ]
  },
  {
   "cell_type": "code",
   "execution_count": 148,
   "id": "d405349a",
   "metadata": {},
   "outputs": [
    {
     "name": "stdout",
     "output_type": "stream",
     "text": [
      "data collected for 21.999873633414353 days\n"
     ]
    }
   ],
   "source": [
    "start_time = pd.to_datetime(df['timestamp'].min())\n",
    "end_time = pd.to_datetime(df['timestamp'].max())\n",
    "data_duration_seconds = (end_time - start_time).total_seconds()\n",
    "data_duration_days = data_duration_seconds / (24 * 3600)\n",
    "print(f'data collected for {data_duration_days} days' )"
   ]
  },
  {
   "cell_type": "code",
   "execution_count": 149,
   "id": "574459b9",
   "metadata": {},
   "outputs": [
    {
     "data": {
      "text/html": [
       "<div>\n",
       "<style scoped>\n",
       "    .dataframe tbody tr th:only-of-type {\n",
       "        vertical-align: middle;\n",
       "    }\n",
       "\n",
       "    .dataframe tbody tr th {\n",
       "        vertical-align: top;\n",
       "    }\n",
       "\n",
       "    .dataframe thead th {\n",
       "        text-align: right;\n",
       "    }\n",
       "</style>\n",
       "<table border=\"1\" class=\"dataframe\">\n",
       "  <thead>\n",
       "    <tr style=\"text-align: right;\">\n",
       "      <th></th>\n",
       "      <th>user_id</th>\n",
       "      <th>timestamp</th>\n",
       "      <th>group</th>\n",
       "      <th>landing_page</th>\n",
       "      <th>converted</th>\n",
       "      <th>week</th>\n",
       "    </tr>\n",
       "  </thead>\n",
       "  <tbody>\n",
       "    <tr>\n",
       "      <th>0</th>\n",
       "      <td>851104</td>\n",
       "      <td>2017-01-21 22:11:48.556739</td>\n",
       "      <td>control</td>\n",
       "      <td>old_page</td>\n",
       "      <td>0</td>\n",
       "      <td>3</td>\n",
       "    </tr>\n",
       "    <tr>\n",
       "      <th>1</th>\n",
       "      <td>804228</td>\n",
       "      <td>2017-01-12 08:01:45.159739</td>\n",
       "      <td>control</td>\n",
       "      <td>old_page</td>\n",
       "      <td>0</td>\n",
       "      <td>2</td>\n",
       "    </tr>\n",
       "    <tr>\n",
       "      <th>2</th>\n",
       "      <td>661590</td>\n",
       "      <td>2017-01-11 16:55:06.154213</td>\n",
       "      <td>treatment</td>\n",
       "      <td>new_page</td>\n",
       "      <td>0</td>\n",
       "      <td>2</td>\n",
       "    </tr>\n",
       "    <tr>\n",
       "      <th>3</th>\n",
       "      <td>853541</td>\n",
       "      <td>2017-01-08 18:28:03.143765</td>\n",
       "      <td>treatment</td>\n",
       "      <td>new_page</td>\n",
       "      <td>0</td>\n",
       "      <td>1</td>\n",
       "    </tr>\n",
       "    <tr>\n",
       "      <th>4</th>\n",
       "      <td>864975</td>\n",
       "      <td>2017-01-21 01:52:26.210827</td>\n",
       "      <td>control</td>\n",
       "      <td>old_page</td>\n",
       "      <td>1</td>\n",
       "      <td>3</td>\n",
       "    </tr>\n",
       "    <tr>\n",
       "      <th>...</th>\n",
       "      <td>...</td>\n",
       "      <td>...</td>\n",
       "      <td>...</td>\n",
       "      <td>...</td>\n",
       "      <td>...</td>\n",
       "      <td>...</td>\n",
       "    </tr>\n",
       "    <tr>\n",
       "      <th>286685</th>\n",
       "      <td>751197</td>\n",
       "      <td>2017-01-03 22:28:38.630509</td>\n",
       "      <td>control</td>\n",
       "      <td>old_page</td>\n",
       "      <td>0</td>\n",
       "      <td>1</td>\n",
       "    </tr>\n",
       "    <tr>\n",
       "      <th>286686</th>\n",
       "      <td>945152</td>\n",
       "      <td>2017-01-12 00:51:57.078372</td>\n",
       "      <td>control</td>\n",
       "      <td>old_page</td>\n",
       "      <td>0</td>\n",
       "      <td>2</td>\n",
       "    </tr>\n",
       "    <tr>\n",
       "      <th>286687</th>\n",
       "      <td>734608</td>\n",
       "      <td>2017-01-22 11:45:03.439544</td>\n",
       "      <td>control</td>\n",
       "      <td>old_page</td>\n",
       "      <td>0</td>\n",
       "      <td>3</td>\n",
       "    </tr>\n",
       "    <tr>\n",
       "      <th>286688</th>\n",
       "      <td>697314</td>\n",
       "      <td>2017-01-15 01:20:28.957438</td>\n",
       "      <td>control</td>\n",
       "      <td>old_page</td>\n",
       "      <td>0</td>\n",
       "      <td>2</td>\n",
       "    </tr>\n",
       "    <tr>\n",
       "      <th>286689</th>\n",
       "      <td>715931</td>\n",
       "      <td>2017-01-16 12:40:24.467417</td>\n",
       "      <td>treatment</td>\n",
       "      <td>new_page</td>\n",
       "      <td>0</td>\n",
       "      <td>3</td>\n",
       "    </tr>\n",
       "  </tbody>\n",
       "</table>\n",
       "<p>286690 rows × 6 columns</p>\n",
       "</div>"
      ],
      "text/plain": [
       "        user_id                  timestamp      group landing_page  converted  \\\n",
       "0        851104 2017-01-21 22:11:48.556739    control     old_page          0   \n",
       "1        804228 2017-01-12 08:01:45.159739    control     old_page          0   \n",
       "2        661590 2017-01-11 16:55:06.154213  treatment     new_page          0   \n",
       "3        853541 2017-01-08 18:28:03.143765  treatment     new_page          0   \n",
       "4        864975 2017-01-21 01:52:26.210827    control     old_page          1   \n",
       "...         ...                        ...        ...          ...        ...   \n",
       "286685   751197 2017-01-03 22:28:38.630509    control     old_page          0   \n",
       "286686   945152 2017-01-12 00:51:57.078372    control     old_page          0   \n",
       "286687   734608 2017-01-22 11:45:03.439544    control     old_page          0   \n",
       "286688   697314 2017-01-15 01:20:28.957438    control     old_page          0   \n",
       "286689   715931 2017-01-16 12:40:24.467417  treatment     new_page          0   \n",
       "\n",
       "        week  \n",
       "0          3  \n",
       "1          2  \n",
       "2          2  \n",
       "3          1  \n",
       "4          3  \n",
       "...      ...  \n",
       "286685     1  \n",
       "286686     2  \n",
       "286687     3  \n",
       "286688     2  \n",
       "286689     3  \n",
       "\n",
       "[286690 rows x 6 columns]"
      ]
     },
     "execution_count": 149,
     "metadata": {},
     "output_type": "execute_result"
    }
   ],
   "source": [
    "df"
   ]
  },
  {
   "cell_type": "code",
   "execution_count": 150,
   "id": "1e0ad1bb",
   "metadata": {},
   "outputs": [
    {
     "data": {
      "text/plain": [
       "2    91380\n",
       "3    91056\n",
       "1    83745\n",
       "4    20509\n",
       "Name: week, dtype: Int64"
      ]
     },
     "execution_count": 150,
     "metadata": {},
     "output_type": "execute_result"
    }
   ],
   "source": [
    "df['week'].value_counts()"
   ]
  },
  {
   "cell_type": "code",
   "execution_count": 214,
   "id": "12c05e0d",
   "metadata": {},
   "outputs": [],
   "source": [
    "#calculating the ration between control and treatment groups week by week\n",
    "n_f_w = 4\n",
    "experiment_data = df[df['week'] <= n_f_w]"
   ]
  },
  {
   "cell_type": "code",
   "execution_count": 215,
   "id": "13c5f284",
   "metadata": {},
   "outputs": [],
   "source": [
    "control = experiment_data[experiment_data['group'] == 'control']\n",
    "treatment = experiment_data[experiment_data['group'] == 'treatment']\n",
    "\n",
    "control_converted = round(control['converted'].sum() * 100/control['converted'].count(), 3)\n",
    "treatment_converted = round(treatment['converted'].sum() * 100/treatment['converted'].count(), 3)\n",
    "\n",
    "lift = round(control_converted - treatment_converted, 3)"
   ]
  },
  {
   "cell_type": "code",
   "execution_count": 216,
   "id": "79b7cf35",
   "metadata": {},
   "outputs": [
    {
     "data": {
      "text/plain": [
       "0.144"
      ]
     },
     "execution_count": 216,
     "metadata": {},
     "output_type": "execute_result"
    }
   ],
   "source": [
    "#the actual difference ratio\n",
    "lift"
   ]
  },
  {
   "cell_type": "code",
   "execution_count": 217,
   "id": "7d8737be",
   "metadata": {},
   "outputs": [
    {
     "data": {
      "text/plain": [
       "array([[126073,  17220],\n",
       "       [126372,  17025]], dtype=int64)"
      ]
     },
     "execution_count": 217,
     "metadata": {},
     "output_type": "execute_result"
    }
   ],
   "source": [
    "#buiding a chi test for weekly effect\n",
    "observed_values2 = pd.crosstab(experiment_data['group'], experiment_data['converted']).values\n",
    "observed_values2"
   ]
  },
  {
   "cell_type": "code",
   "execution_count": 218,
   "id": "68e1578c",
   "metadata": {},
   "outputs": [
    {
     "name": "stdout",
     "output_type": "stream",
     "text": [
      "1.426794609399621 0.23228827305833816\n"
     ]
    }
   ],
   "source": [
    "chi2_statistics, p_value, dof, expected_values = chi2_contingency(observed_values2, correction=False)\n",
    "print(chi2_statistics, p_value)"
   ]
  },
  {
   "cell_type": "code",
   "execution_count": 219,
   "id": "1fbea6e3",
   "metadata": {},
   "outputs": [
    {
     "name": "stdout",
     "output_type": "stream",
     "text": [
      "relationship exists : chi2 1.426794609399621 p_value 0.23228827305833816\n"
     ]
    }
   ],
   "source": [
    "h_0 = 'no relationship'\n",
    "h_1 = 'relationship exists'\n",
    "if chi2_statistics > a:\n",
    "    print(h_1, ':', 'chi2', chi2_statistics, 'p_value', p_value)\n",
    "elif chi2_statistics < a:\n",
    "    print(h_0, ':', 'chi2', chi2_statistics, 'p_value', p_value)"
   ]
  },
  {
   "cell_type": "markdown",
   "id": "806b7b61",
   "metadata": {},
   "source": [
    "<span style='font-size: 25px'>Second week exposure...</span>"
   ]
  },
  {
   "cell_type": "markdown",
   "id": "e818ceb0",
   "metadata": {},
   "source": [
    "The conversion ration fluctuates by 0,01%-0,015%, with p_value decreasing with every week. That tells us, that the most conversions occurred during the first week, and the speed of conversion was slowing down throughout the whole experiment\n"
   ]
  },
  {
   "cell_type": "code",
   "execution_count": null,
   "id": "d1b797f6",
   "metadata": {},
   "outputs": [],
   "source": []
  }
 ],
 "metadata": {
  "kernelspec": {
   "display_name": "Python 3 (ipykernel)",
   "language": "python",
   "name": "python3"
  },
  "language_info": {
   "codemirror_mode": {
    "name": "ipython",
    "version": 3
   },
   "file_extension": ".py",
   "mimetype": "text/x-python",
   "name": "python",
   "nbconvert_exporter": "python",
   "pygments_lexer": "ipython3",
   "version": "3.9.13"
  }
 },
 "nbformat": 4,
 "nbformat_minor": 5
}
